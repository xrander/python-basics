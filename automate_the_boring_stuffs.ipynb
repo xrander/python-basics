{
 "cells": [
  {
   "cell_type": "code",
   "execution_count": 2,
   "id": "177a5b54-fb98-4734-b99e-b7ee2408abe9",
   "metadata": {},
   "outputs": [],
   "source": [
    "spam = 42"
   ]
  },
  {
   "cell_type": "code",
   "execution_count": 4,
   "id": "d487e8dd-6fc6-4857-9c78-69fb8a7a7641",
   "metadata": {},
   "outputs": [],
   "source": [
    "eggs = 4"
   ]
  },
  {
   "cell_type": "code",
   "execution_count": 5,
   "id": "b4a8322c-9c69-4f31-ba9a-ebe8cb6700ac",
   "metadata": {},
   "outputs": [
    {
     "data": {
      "text/plain": [
       "46"
      ]
     },
     "execution_count": 5,
     "metadata": {},
     "output_type": "execute_result"
    }
   ],
   "source": [
    "spam + eggs"
   ]
  },
  {
   "cell_type": "markdown",
   "id": "d0407fa8-ed60-41ee-ae92-4133ef0f1563",
   "metadata": {},
   "source": [
    "# Flow Control"
   ]
  },
  {
   "cell_type": "code",
   "execution_count": 1,
   "id": "cf5422e8-cbae-4460-8905-2fb4d4e22332",
   "metadata": {},
   "outputs": [
    {
     "data": {
      "text/plain": [
       "True"
      ]
     },
     "execution_count": 1,
     "metadata": {},
     "output_type": "execute_result"
    }
   ],
   "source": [
    "True and True"
   ]
  },
  {
   "cell_type": "code",
   "execution_count": 2,
   "id": "5f2a13b5-4af4-4ea5-ae6a-5599f053ef38",
   "metadata": {},
   "outputs": [
    {
     "data": {
      "text/plain": [
       "False"
      ]
     },
     "execution_count": 2,
     "metadata": {},
     "output_type": "execute_result"
    }
   ],
   "source": [
    "True and False"
   ]
  },
  {
   "cell_type": "code",
   "execution_count": 3,
   "id": "1c45dc5b-f2d6-44aa-ac1e-99cd9d57dbce",
   "metadata": {},
   "outputs": [
    {
     "data": {
      "text/plain": [
       "True"
      ]
     },
     "execution_count": 3,
     "metadata": {},
     "output_type": "execute_result"
    }
   ],
   "source": [
    "False or True"
   ]
  },
  {
   "cell_type": "code",
   "execution_count": 4,
   "id": "36e8cb3e-76cb-4155-ab6b-b858a121109d",
   "metadata": {},
   "outputs": [
    {
     "data": {
      "text/plain": [
       "False"
      ]
     },
     "execution_count": 4,
     "metadata": {},
     "output_type": "execute_result"
    }
   ],
   "source": [
    "False and True"
   ]
  },
  {
   "cell_type": "code",
   "execution_count": 5,
   "id": "1e23d20d-19d6-4f7c-8adc-d46afd0e8da1",
   "metadata": {},
   "outputs": [
    {
     "data": {
      "text/plain": [
       "True"
      ]
     },
     "execution_count": 5,
     "metadata": {},
     "output_type": "execute_result"
    }
   ],
   "source": [
    "False or True"
   ]
  },
  {
   "cell_type": "code",
   "execution_count": 6,
   "id": "f7560362-7283-4e44-809d-f114068ad589",
   "metadata": {},
   "outputs": [
    {
     "data": {
      "text/plain": [
       "True"
      ]
     },
     "execution_count": 6,
     "metadata": {},
     "output_type": "execute_result"
    }
   ],
   "source": [
    "True or True"
   ]
  },
  {
   "cell_type": "code",
   "execution_count": 7,
   "id": "3a4bb441-023e-4612-a9b2-04592f13e240",
   "metadata": {},
   "outputs": [
    {
     "data": {
      "text/plain": [
       "False"
      ]
     },
     "execution_count": 7,
     "metadata": {},
     "output_type": "execute_result"
    }
   ],
   "source": [
    "not True"
   ]
  },
  {
   "cell_type": "code",
   "execution_count": 8,
   "id": "cf83b0ee-2ae7-4582-a41a-57bb733e77fe",
   "metadata": {},
   "outputs": [
    {
     "data": {
      "text/plain": [
       "True"
      ]
     },
     "execution_count": 8,
     "metadata": {},
     "output_type": "execute_result"
    }
   ],
   "source": [
    "not False"
   ]
  },
  {
   "cell_type": "code",
   "execution_count": 10,
   "id": "104e06bb-2736-40d3-99cd-c7fc9799b121",
   "metadata": {},
   "outputs": [
    {
     "data": {
      "text/plain": [
       "True"
      ]
     },
     "execution_count": 10,
     "metadata": {},
     "output_type": "execute_result"
    }
   ],
   "source": [
    "not not not not not not True"
   ]
  },
  {
   "cell_type": "code",
   "execution_count": 11,
   "id": "b260b7a8-0aa5-4a5a-b94b-ec3b0e95c8bd",
   "metadata": {},
   "outputs": [
    {
     "data": {
      "text/plain": [
       "True"
      ]
     },
     "execution_count": 11,
     "metadata": {},
     "output_type": "execute_result"
    }
   ],
   "source": [
    "2 + 2 == 4 and not 2 + 2 == 5 and 2 * 2 == 2 + 2"
   ]
  },
  {
   "cell_type": "code",
   "execution_count": 12,
   "id": "7f270c18-d2d1-476f-8094-aa95a8aba7ec",
   "metadata": {},
   "outputs": [
    {
     "name": "stdout",
     "output_type": "stream",
     "text": [
      "Hello Mary\n",
      "Access granted\n"
     ]
    }
   ],
   "source": [
    "name = \"Mary\"\n",
    "password = \"Swordfish\"\n",
    "\n",
    "if name == \"Mary\":\n",
    "    print(\"Hello Mary\")\n",
    "    if password == \"Swordfish\":\n",
    "        print(\"Access granted\")\n",
    "    else:\n",
    "        print(\"Access Denied\")"
   ]
  },
  {
   "cell_type": "code",
   "execution_count": 1,
   "id": "aed8dfd7",
   "metadata": {},
   "outputs": [
    {
     "name": "stdout",
     "output_type": "stream",
     "text": [
      "Hello world\n"
     ]
    }
   ],
   "source": [
    "spam = 0\n",
    "if spam < 5:\n",
    "    print(\"Hello world\")\n",
    "    spam = spam + 1"
   ]
  },
  {
   "cell_type": "code",
   "execution_count": 4,
   "id": "8f14aa50-4329-41eb-8359-ad7d7e16f25a",
   "metadata": {
    "scrolled": true
   },
   "outputs": [
    {
     "name": "stdout",
     "output_type": "stream",
     "text": [
      "Hello world 0\n",
      "Hello world 1\n",
      "Hello world 2\n",
      "Hello world 3\n",
      "Hello world 4\n"
     ]
    }
   ],
   "source": [
    "spam = 0\n",
    "while spam < 5:\n",
    "    print(\"Hello world \" + str(spam))\n",
    "    spam = spam + 1"
   ]
  },
  {
   "cell_type": "markdown",
   "id": "70fba08a-a976-43f7-b058-7d1d02f1a089",
   "metadata": {},
   "source": [
    "# For Loop"
   ]
  },
  {
   "cell_type": "code",
   "execution_count": 3,
   "id": "54f337d1-5c93-459d-8aa0-3ed5491190ce",
   "metadata": {},
   "outputs": [
    {
     "name": "stdout",
     "output_type": "stream",
     "text": [
      "my name is Olamide\n",
      "Olamide is (printed 0 time)\n",
      "Olamide is (printed 1 time)\n",
      "Olamide is (printed 2 time)\n",
      "Olamide is (printed 3 time)\n",
      "Olamide is (printed 4 time)\n",
      "Olamide is (printed 5 time)\n",
      "Olamide is (printed 6 time)\n"
     ]
    }
   ],
   "source": [
    "print(\"my name is Olamide\")\n",
    "for i in range(7):\n",
    "    print(\"Olamide is (printed \" + str(i) + \" time)\")"
   ]
  },
  {
   "cell_type": "code",
   "execution_count": 4,
   "id": "60c9f4f8-25b6-462e-a399-3cd47c27edb7",
   "metadata": {},
   "outputs": [
    {
     "name": "stdout",
     "output_type": "stream",
     "text": [
      "5050\n"
     ]
    }
   ],
   "source": [
    "total = 0\n",
    "for x in range(101):\n",
    "    total = total + x\n",
    "print(total)"
   ]
  },
  {
   "cell_type": "code",
   "execution_count": 9,
   "id": "5a1b0d1c-fc92-4378-8722-ea8d8f02d8af",
   "metadata": {},
   "outputs": [
    {
     "name": "stdout",
     "output_type": "stream",
     "text": [
      "my name is Olamide\n",
      "Olamide is printed 0 times\n",
      "Olamide is printed 1 times\n",
      "Olamide is printed 2 times\n",
      "Olamide is printed 3 times\n",
      "Olamide is printed 4 times\n"
     ]
    }
   ],
   "source": [
    "print(\"my name is Olamide\")\n",
    "i = 0\n",
    "while i < 5:\n",
    "    print(\"Olamide is printed \" + str(i) + \" times\")\n",
    "    i = i + 1"
   ]
  },
  {
   "cell_type": "code",
   "execution_count": 10,
   "id": "fea9bcb0-f28e-49fe-91a2-1e22cb4baea4",
   "metadata": {},
   "outputs": [
    {
     "name": "stdout",
     "output_type": "stream",
     "text": [
      "12\n",
      "13\n",
      "14\n",
      "15\n"
     ]
    }
   ],
   "source": [
    "for i in range(12, 16):\n",
    "    print(i)\n"
   ]
  },
  {
   "cell_type": "code",
   "execution_count": 13,
   "id": "f063ab6c-81e1-491d-99dd-c95008958f1e",
   "metadata": {},
   "outputs": [
    {
     "name": "stdout",
     "output_type": "stream",
     "text": [
      "0\n",
      "2\n",
      "4\n",
      "6\n",
      "8\n"
     ]
    }
   ],
   "source": [
    "for x in range(0, 10, 2):\n",
    "    print(x)"
   ]
  },
  {
   "cell_type": "code",
   "execution_count": 17,
   "id": "0f5612fc-3356-4651-b8d9-737a8239fc84",
   "metadata": {},
   "outputs": [
    {
     "name": "stdout",
     "output_type": "stream",
     "text": [
      "5\n",
      "4\n",
      "3\n",
      "2\n",
      "1\n",
      "0\n"
     ]
    }
   ],
   "source": [
    "for i in range(5, -1, -1):\n",
    "    print(i)"
   ]
  },
  {
   "cell_type": "code",
   "execution_count": 21,
   "id": "169c8942-de63-40a3-955e-05551cf5e6be",
   "metadata": {},
   "outputs": [
    {
     "name": "stdout",
     "output_type": "stream",
     "text": [
      "34\n",
      "55\n",
      "34\n",
      "35\n",
      "55\n",
      "19\n",
      "95\n",
      "84\n",
      "74\n",
      "73\n"
     ]
    }
   ],
   "source": [
    "import random\n",
    "for i in range(10):\n",
    "    print(random.randint(1, 100))"
   ]
  },
  {
   "cell_type": "code",
   "execution_count": 6,
   "id": "c3642ef4-9b63-4cfb-9f60-1770129659e2",
   "metadata": {},
   "outputs": [
    {
     "name": "stdin",
     "output_type": "stream",
     "text": [
      " 1\n"
     ]
    },
    {
     "name": "stdout",
     "output_type": "stream",
     "text": [
      "Hello\n"
     ]
    }
   ],
   "source": [
    "spam = int(input())\n",
    "if spam == 1:\n",
    "    print(\"Hello\")\n",
    "elif spam == 2:\n",
    "    print(\"Howdy\")\n",
    "else:\n",
    "    print(\"Greetings\")"
   ]
  },
  {
   "cell_type": "code",
   "execution_count": 8,
   "id": "d8f3c88d-e785-4d7d-aff3-7bce24599c4e",
   "metadata": {},
   "outputs": [
    {
     "name": "stdout",
     "output_type": "stream",
     "text": [
      "1\n",
      "2\n",
      "3\n",
      "4\n",
      "5\n",
      "6\n",
      "7\n",
      "8\n",
      "9\n",
      "10\n"
     ]
    }
   ],
   "source": [
    "for i in range(1, 11):\n",
    "    print (i)"
   ]
  },
  {
   "cell_type": "code",
   "execution_count": 10,
   "id": "10b1cd7f-fac5-4c6d-a612-5b5667c86a7e",
   "metadata": {},
   "outputs": [
    {
     "name": "stdout",
     "output_type": "stream",
     "text": [
      "1\n",
      "2\n",
      "3\n",
      "4\n",
      "5\n",
      "6\n",
      "7\n",
      "8\n",
      "9\n",
      "10\n"
     ]
    }
   ],
   "source": [
    "i = 1\n",
    "while i < 11:\n",
    "    print(i)\n",
    "    i += 1"
   ]
  },
  {
   "cell_type": "code",
   "execution_count": null,
   "id": "55d13788-df8f-464e-be5c-c0a26204d491",
   "metadata": {},
   "outputs": [],
   "source": [
    "import random\n"
   ]
  }
 ],
 "metadata": {
  "kernelspec": {
   "display_name": "Python 3 (ipykernel)",
   "language": "python",
   "name": "python3"
  },
  "language_info": {
   "codemirror_mode": {
    "name": "ipython",
    "version": 3
   },
   "file_extension": ".py",
   "mimetype": "text/x-python",
   "name": "python",
   "nbconvert_exporter": "python",
   "pygments_lexer": "ipython3",
   "version": "3.12.2"
  }
 },
 "nbformat": 4,
 "nbformat_minor": 5
}
