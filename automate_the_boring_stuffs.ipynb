{
 "cells": [
  {
   "cell_type": "code",
   "execution_count": 2,
   "id": "177a5b54-fb98-4734-b99e-b7ee2408abe9",
   "metadata": {},
   "outputs": [],
   "source": [
    "spam = 42"
   ]
  },
  {
   "cell_type": "code",
   "execution_count": 4,
   "id": "d487e8dd-6fc6-4857-9c78-69fb8a7a7641",
   "metadata": {},
   "outputs": [],
   "source": [
    "eggs = 4"
   ]
  },
  {
   "cell_type": "code",
   "execution_count": 5,
   "id": "b4a8322c-9c69-4f31-ba9a-ebe8cb6700ac",
   "metadata": {},
   "outputs": [
    {
     "data": {
      "text/plain": [
       "46"
      ]
     },
     "execution_count": 5,
     "metadata": {},
     "output_type": "execute_result"
    }
   ],
   "source": [
    "spam + eggs"
   ]
  }
 ],
 "metadata": {
  "kernelspec": {
   "display_name": "Python 3 (ipykernel)",
   "language": "python",
   "name": "python3"
  },
  "language_info": {
   "codemirror_mode": {
    "name": "ipython",
    "version": 3
   },
   "file_extension": ".py",
   "mimetype": "text/x-python",
   "name": "python",
   "nbconvert_exporter": "python",
   "pygments_lexer": "ipython3",
   "version": "3.12.2"
  }
 },
 "nbformat": 4,
 "nbformat_minor": 5
}
