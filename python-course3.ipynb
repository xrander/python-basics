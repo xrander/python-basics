{
 "cells": [
  {
   "cell_type": "markdown",
   "metadata": {},
   "source": [
    "## Dictionaries"
   ]
  },
  {
   "cell_type": "code",
   "execution_count": null,
   "metadata": {},
   "outputs": [
    {
     "name": "stdout",
     "output_type": "stream",
     "text": [
      "green\n",
      "5\n"
     ]
    }
   ],
   "source": [
    "alien_0 = {\"color\": \"green\", \"points\": 5}\n",
    "print(alien_0[\"color\"])\n",
    "print(alien_0[\"points\"])"
   ]
  },
  {
   "cell_type": "markdown",
   "metadata": {},
   "source": [
    "`alien_o` is the **dictionary**, `color` and `points` the **keys** and `green` and `5` the **values**"
   ]
  },
  {
   "cell_type": "code",
   "execution_count": null,
   "metadata": {},
   "outputs": [
    {
     "name": "stdout",
     "output_type": "stream",
     "text": [
      "you just earned 5 points\n"
     ]
    }
   ],
   "source": [
    "new_points = alien_0[\"points\"]\n",
    "print(f\"you just earned {new_points} points\")"
   ]
  },
  {
   "cell_type": "markdown",
   "metadata": {},
   "source": [
    "adding new values to dictionaries"
   ]
  },
  {
   "cell_type": "code",
   "execution_count": null,
   "metadata": {},
   "outputs": [
    {
     "name": "stdout",
     "output_type": "stream",
     "text": [
      "{'color': 'green', 'points': 5, 'x_position': 0, 'y_position': 25}\n"
     ]
    }
   ],
   "source": [
    "alien_0[\"x_position\"] = 0\n",
    "alien_0[\"y_position\"] = 25\n",
    "print(alien_0)"
   ]
  },
  {
   "cell_type": "code",
   "execution_count": null,
   "metadata": {},
   "outputs": [
    {
     "name": "stdout",
     "output_type": "stream",
     "text": [
      "{}\n",
      "{'color': 'green', 'points': 5, 'x_position': 0, 'y_position': 25}\n"
     ]
    }
   ],
   "source": [
    "alien_0 = {}\n",
    "print(alien_0)\n",
    "\n",
    "alien_0[\"color\"] = \"green\"\n",
    "alien_0[\"points\"] = 5\n",
    "alien_0[\"x_position\"] = 0\n",
    "alien_0[\"y_position\"] = 25\n",
    "print(alien_0)"
   ]
  },
  {
   "cell_type": "markdown",
   "metadata": {},
   "source": [
    "modifying values in a dictionary"
   ]
  },
  {
   "cell_type": "code",
   "execution_count": null,
   "metadata": {},
   "outputs": [
    {
     "name": "stdout",
     "output_type": "stream",
     "text": [
      "The alien is {'color': 'green'}\n",
      "The alien is now {'color': 'red'}\n"
     ]
    }
   ],
   "source": [
    "alien_0 = {\"color\": \"green\"}\n",
    "print(f\"The alien is {alien_0}\")\n",
    "\n",
    "alien_0[\"color\"] = \"red\"\n",
    "print(f\"The alien is now {alien_0}\")"
   ]
  },
  {
   "cell_type": "code",
   "execution_count": null,
   "metadata": {},
   "outputs": [
    {
     "name": "stdout",
     "output_type": "stream",
     "text": [
      "Original position of the alien is: 0\n",
      "New position: 2 \n"
     ]
    }
   ],
   "source": [
    "alien_0 = {\"x_position\": 0, \"y_position\": 25, \"speed\": \"medium\"}\n",
    "print(f\"Original position of the alien is: {alien_0[\"x_position\"]}\")\n",
    "\n",
    "if alien_0[\"speed\"] == \"slow\":\n",
    "    x_increment = 1\n",
    "elif alien_0[\"speed\"] == \"medium\":\n",
    "    x_increment = 2\n",
    "else:\n",
    "    x_increment = 3\n",
    "\n",
    "alien_0[\"x_position\"] = alien_0[\"x_position\"] + x_increment\n",
    "\n",
    "print(f\"New position: {alien_0[\"x_position\"]} \")"
   ]
  },
  {
   "cell_type": "code",
   "execution_count": null,
   "metadata": {},
   "outputs": [
    {
     "name": "stdout",
     "output_type": "stream",
     "text": [
      "Original position of the alien is: 0\n",
      "New position: 3 \n"
     ]
    }
   ],
   "source": [
    "alien_0 = {\"x_position\": 0, \"y_position\": 25, \"speed\": \"fast\"}\n",
    "print(f\"Original position of the alien is: {alien_0[\"x_position\"]}\")\n",
    "\n",
    "if alien_0[\"speed\"] == \"slow\":\n",
    "    x_increment = 1\n",
    "elif alien_0[\"speed\"] == \"medium\":\n",
    "    x_increment = 2\n",
    "else:\n",
    "    x_increment = 3\n",
    "\n",
    "alien_0[\"x_position\"] = alien_0[\"x_position\"] + x_increment\n",
    "\n",
    "print(f\"New position: {alien_0[\"x_position\"]} \")"
   ]
  },
  {
   "cell_type": "markdown",
   "metadata": {},
   "source": [
    "#### Removing Key-Value Pairs"
   ]
  },
  {
   "cell_type": "code",
   "execution_count": null,
   "metadata": {},
   "outputs": [
    {
     "name": "stdout",
     "output_type": "stream",
     "text": [
      "{'colors': 'green', 'points': 5}\n",
      "{'colors': 'green'}\n"
     ]
    }
   ],
   "source": [
    "alien_0 = {\"colors\": \"green\", \"points\": 5}\n",
    "print(alien_0)\n",
    "\n",
    "del alien_0[\"points\"]\n",
    "print(alien_0)"
   ]
  },
  {
   "cell_type": "markdown",
   "metadata": {},
   "source": [
    "Dictionary of similar objects"
   ]
  },
  {
   "cell_type": "code",
   "execution_count": null,
   "metadata": {},
   "outputs": [
    {
     "name": "stdout",
     "output_type": "stream",
     "text": [
      "Adu's favorite language is R\n",
      "r\n"
     ]
    }
   ],
   "source": [
    "favorite_prog = {\n",
    "    \"meshach\": \"python\",\n",
    "    \"fisola\": \"ruby\",\n",
    "    \"nangamso\": \"qgis\",\n",
    "    \"adu\": \"r\",\n",
    "    \"ayobami\": \"typescript\",\n",
    "}\n",
    "\n",
    "language = favorite_prog[\"adu\"]\n",
    "print(f\"Adu's favorite language is {language.title()}\")\n",
    "print(favorite_prog[\"adu\"])"
   ]
  },
  {
   "cell_type": "markdown",
   "metadata": {},
   "source": [
    "#### Using get() to access values"
   ]
  },
  {
   "cell_type": "code",
   "execution_count": null,
   "metadata": {},
   "outputs": [
    {
     "name": "stdout",
     "output_type": "stream",
     "text": [
      "green\n",
      "no point value assigned\n",
      "None\n"
     ]
    }
   ],
   "source": [
    "alien_0 = {\n",
    "    \"color\": \"green\",\n",
    "    \"speed\": \"slow\",\n",
    "}\n",
    "\n",
    "point_value = alien_0.get(\"points\", \"no point value assigned\")\n",
    "print(alien_0.get(\"color\"))\n",
    "print(point_value)\n",
    "\n",
    "print(alien_0.get(\"points\"))"
   ]
  },
  {
   "cell_type": "code",
   "execution_count": null,
   "metadata": {},
   "outputs": [
    {
     "name": "stdout",
     "output_type": "stream",
     "text": [
      "Segun\n",
      "Adu\n",
      "30\n",
      "Lagos\n"
     ]
    }
   ],
   "source": [
    "person = {\n",
    "    \"first_name\": \"segun\",\n",
    "    \"last_name\": \"adu\",\n",
    "    \"age\": 30,\n",
    "    \"city\": \"lagos\",\n",
    "}\n",
    "\n",
    "print(person.get(\"first_name\").title())\n",
    "print(person.get(\"last_name\").title())\n",
    "print(person.get(\"age\"))\n",
    "print(person.get(\"city\").title())"
   ]
  },
  {
   "cell_type": "code",
   "execution_count": null,
   "metadata": {},
   "outputs": [
    {
     "name": "stdout",
     "output_type": "stream",
     "text": [
      "Namgamso favorite number is 5\n",
      "Adu favorite number is 3\n",
      "Scoals favorite number is 8\n",
      "Segun favorite number is 7\n"
     ]
    }
   ],
   "source": [
    "favorite_num = {\n",
    "    \"nangamso\": 5,\n",
    "    \"adu\": 3,\n",
    "    \"scoals\": 8,\n",
    "    \"segun\": 7\n",
    "}\n",
    "\n",
    "print(f\"Namgamso favorite number is {favorite_num.get(\"nangamso\")}\")\n",
    "print(f\"Adu favorite number is {favorite_num.get(\"adu\")}\")\n",
    "print(f\"Scoals favorite number is {favorite_num.get(\"scoals\")}\")\n",
    "print(f\"Segun favorite number is {favorite_num.get(\"segun\")}\")"
   ]
  },
  {
   "cell_type": "code",
   "execution_count": null,
   "metadata": {},
   "outputs": [
    {
     "name": "stdout",
     "output_type": "stream",
     "text": [
      "Print is used to display values assigned to objects and variables\n",
      "\n",
      "Variables are boxes that stores values\n",
      "\n",
      "For is a function to loop\n",
      "\n",
      "If is a conditional statement that results to true or false\n",
      "\n",
      "Else is used to define actions if other conditions are not met\n"
     ]
    }
   ],
   "source": [
    "keywords = {\n",
    "    \"print\": \"used to display values assigned to objects and variables\",\n",
    "    \"variables\": \"boxes that stores values\",\n",
    "    \"for\": \"a function to loop\",\n",
    "    \"if\": \"a conditional statement that results to true or false\",\n",
    "    \"else\": \"used to define actions if other conditions are not met\"\n",
    "}\n",
    "\n",
    "word = \"print\"\n",
    "print(f\"{word.title()} is {keywords.get(word)}\\n\")\n",
    "\n",
    "word = \"variables\"\n",
    "print(f\"{word.title()} are {keywords.get(word)}\\n\")\n",
    "\n",
    "word = \"for\"\n",
    "print(f\"{word.title()} is {keywords.get(word)}\\n\")\n",
    "\n",
    "word = \"if\"\n",
    "print(f\"{word.title()} is {keywords.get(word)}\\n\")\n",
    "\n",
    "word = \"else\"\n",
    "print(f\"{word.title()} is {keywords.get(word)}\")"
   ]
  },
  {
   "cell_type": "markdown",
   "metadata": {},
   "source": [
    "#### Looping through a Dictionary"
   ]
  },
  {
   "cell_type": "code",
   "execution_count": null,
   "metadata": {},
   "outputs": [
    {
     "name": "stdout",
     "output_type": "stream",
     "text": [
      "\n",
      "Key: username\n",
      "Value: xrand\n",
      "\n",
      "Key: first\n",
      "Value: olamide\n",
      "\n",
      "Key: last\n",
      "Value: adu\n"
     ]
    }
   ],
   "source": [
    "user_0 = {\n",
    "    \"username\": \"xrand\",\n",
    "    \"first\": \"olamide\",\n",
    "    \"last\": \"adu\",\n",
    "}\n",
    "\n",
    "for key, value in user_0.items():\n",
    "    print(f\"\\nKey: {key}\")\n",
    "    print(f\"Value: {value}\")\n"
   ]
  },
  {
   "cell_type": "code",
   "execution_count": null,
   "metadata": {},
   "outputs": [
    {
     "name": "stdout",
     "output_type": "stream",
     "text": [
      "\n",
      "Meshach's favorite program is Python\n",
      "\n",
      "Fisola's favorite program is Ruby\n",
      "\n",
      "Nangamso's favorite program is Qgis\n",
      "\n",
      "Adu's favorite program is R\n",
      "\n",
      "Ayobami's favorite program is Typescript\n"
     ]
    }
   ],
   "source": [
    "for name, lang in favorite_prog.items():\n",
    "    print(f\"\\n{name.title()}'s favorite program is {lang.title()}\")"
   ]
  },
  {
   "cell_type": "markdown",
   "metadata": {},
   "source": [
    "##### Looping through the keys in a dictionary\n",
    "The **.keys()** method alone us access only the keys in the dictionary."
   ]
  },
  {
   "cell_type": "code",
   "execution_count": null,
   "metadata": {},
   "outputs": [
    {
     "name": "stdout",
     "output_type": "stream",
     "text": [
      "Meshach\n",
      "Fisola\n",
      "Nangamso\n",
      "Adu\n",
      "Ayobami\n"
     ]
    }
   ],
   "source": [
    "for name in favorite_prog.keys():\n",
    "    print(name.title())"
   ]
  },
  {
   "cell_type": "code",
   "execution_count": null,
   "metadata": {},
   "outputs": [
    {
     "name": "stdout",
     "output_type": "stream",
     "text": [
      "Meshach\n",
      "Fisola\n",
      "Nangamso\n",
      "Adu\n",
      "Ayobami\n"
     ]
    }
   ],
   "source": [
    "# the follow is the same as what is above.\n",
    "for name in favorite_prog:\n",
    "    print(name.title())"
   ]
  },
  {
   "cell_type": "code",
   "execution_count": null,
   "metadata": {},
   "outputs": [
    {
     "name": "stdout",
     "output_type": "stream",
     "text": [
      "Hi Meshach.\n",
      "Hi Fisola.\n",
      "\tFisola, I see you love Ruby!\n",
      "Hi Nangamso.\n",
      "Hi Adu.\n",
      "Hi Ayobami.\n",
      "\tAyobami, I see you love Typescript!\n"
     ]
    }
   ],
   "source": [
    "friends = [\"ayobami\", \"fisola\"]\n",
    "\n",
    "for name in favorite_prog:\n",
    "    print(f\"Hi {name.title()}.\")\n",
    "    if name in friends:\n",
    "        language = favorite_prog[name].title()\n",
    "        print(f\"\\t{name.title()}, I see you love {language}!\")"
   ]
  },
  {
   "cell_type": "markdown",
   "metadata": {},
   "source": [
    "we can use the keys() method to see if a particular value is part of the dictionary"
   ]
  },
  {
   "cell_type": "code",
   "execution_count": null,
   "metadata": {},
   "outputs": [
    {
     "name": "stdout",
     "output_type": "stream",
     "text": [
      "Bolaji, please take out poll!\n"
     ]
    }
   ],
   "source": [
    "if \"bolaji\" not in favorite_prog.keys():\n",
    "    print(\"Bolaji, please take out poll!\")"
   ]
  },
  {
   "cell_type": "markdown",
   "metadata": {},
   "source": [
    "looping through a particular order."
   ]
  },
  {
   "cell_type": "code",
   "execution_count": null,
   "metadata": {},
   "outputs": [
    {
     "name": "stdout",
     "output_type": "stream",
     "text": [
      "Adu, thank you for taking the poll.\n",
      "Ayobami, thank you for taking the poll.\n",
      "Fisola, thank you for taking the poll.\n",
      "Meshach, thank you for taking the poll.\n",
      "Nangamso, thank you for taking the poll.\n"
     ]
    }
   ],
   "source": [
    "for name in sorted(favorite_prog.keys()):\n",
    "    print(f\"{name.title()}, thank you for taking the poll.\")"
   ]
  },
  {
   "cell_type": "markdown",
   "metadata": {},
   "source": [
    "Looping through values in a Dictionary"
   ]
  },
  {
   "cell_type": "code",
   "execution_count": null,
   "metadata": {},
   "outputs": [
    {
     "name": "stdout",
     "output_type": "stream",
     "text": [
      "languages mentioned are:\n",
      "\n",
      "Python\n",
      "Ruby\n",
      "Qgis\n",
      "R\n",
      "Typescript\n"
     ]
    }
   ],
   "source": [
    "print(\"languages mentioned are:\\n\")\n",
    "\n",
    "for language in favorite_prog.values():\n",
    "    print(language.title())"
   ]
  },
  {
   "cell_type": "markdown",
   "metadata": {},
   "source": [
    "set() can be used in cases where unique values are needed."
   ]
  },
  {
   "cell_type": "code",
   "execution_count": null,
   "metadata": {},
   "outputs": [
    {
     "name": "stdout",
     "output_type": "stream",
     "text": [
      "Ruby\n",
      "Typescript\n",
      "Python\n",
      "Qgis\n",
      "R\n"
     ]
    }
   ],
   "source": [
    "for language in set(favorite_prog.values()):\n",
    "    print(language.title())"
   ]
  },
  {
   "cell_type": "code",
   "execution_count": null,
   "metadata": {},
   "outputs": [
    {
     "data": {
      "text/plain": [
       "{'c', 'python', 'rust'}"
      ]
     },
     "execution_count": 58,
     "metadata": {},
     "output_type": "execute_result"
    }
   ],
   "source": [
    "languages = {\"python\", \"rust\", \"python\", \"c\"}\n",
    "languages"
   ]
  },
  {
   "cell_type": "markdown",
   "metadata": {},
   "source": [
    "exercises"
   ]
  },
  {
   "cell_type": "code",
   "execution_count": null,
   "metadata": {},
   "outputs": [
    {
     "name": "stdout",
     "output_type": "stream",
     "text": [
      "the meaning of Print is Used To Display Values Assigned To Objects And Variables\n",
      "the meaning of Variables is Boxes That Stores Values\n",
      "the meaning of For is A Function To Loop\n",
      "the meaning of If is A Conditional Statement That Results To True Or False\n",
      "the meaning of Else is Used To Define Actions If Other Conditions Are Not Met\n"
     ]
    }
   ],
   "source": [
    "\n",
    "for keyword, meaning in keywords.items():\n",
    "    print(f\"the meaning of {keyword.title()} is {meaning.title()}\")"
   ]
  },
  {
   "cell_type": "code",
   "execution_count": null,
   "metadata": {},
   "outputs": [
    {
     "name": "stdout",
     "output_type": "stream",
     "text": [
      "{'print': 'used to display values assigned to objects and variables', 'variables': 'boxes that stores values', 'for': 'a function to loop', 'if': 'a conditional statement that results to true or false', 'else': 'used to define actions if other conditions are not met', 'string': 'this also means character', 'integer': 'this is any whole number or digit', 'float': 'this is a number or digit with decimal point', 'boolean': 'this is a logical of either true or false', 'conditionals': 'these includes and/or'}\n"
     ]
    }
   ],
   "source": [
    "keywords[\"string\"] = \"this also means character\"\n",
    "keywords[\"integer\"] = \"this is any whole number or digit\"\n",
    "keywords[\"float\"] = \"this is a number or digit with decimal point\"\n",
    "keywords[\"boolean\"] = \"this is a logical of either true or false\"\n",
    "keywords[\"conditionals\"] = \"these includes and/or\"\n",
    "\n",
    "print(keywords)"
   ]
  },
  {
   "cell_type": "code",
   "execution_count": null,
   "metadata": {},
   "outputs": [
    {
     "name": "stdout",
     "output_type": "stream",
     "text": [
      "the meaning of Print is Used To Display Values Assigned To Objects And Variables\n",
      "\n",
      "the meaning of Variables is Boxes That Stores Values\n",
      "\n",
      "the meaning of For is A Function To Loop\n",
      "\n",
      "the meaning of If is A Conditional Statement That Results To True Or False\n",
      "\n",
      "the meaning of Else is Used To Define Actions If Other Conditions Are Not Met\n",
      "\n",
      "the meaning of String is This Also Means Character\n",
      "\n",
      "the meaning of Integer is This Is Any Whole Number Or Digit\n",
      "\n",
      "the meaning of Float is This Is A Number Or Digit With Decimal Point\n",
      "\n",
      "the meaning of Boolean is This Is A Logical Of Either True Or False\n",
      "\n",
      "the meaning of Conditionals is These Includes And/Or\n",
      "\n"
     ]
    }
   ],
   "source": [
    "for keyword, meaning in keywords.items():\n",
    "    print(f\"the meaning of {keyword.title()} is {meaning.title()}\\n\")"
   ]
  },
  {
   "cell_type": "code",
   "execution_count": null,
   "metadata": {},
   "outputs": [
    {
     "name": "stdout",
     "output_type": "stream",
     "text": [
      "The Amazon flows through Peru\n",
      "The Mississippi-Missouri-Red Rock flows through Montana\n",
      "The Chang Jiang flows through China\n",
      "The Niger flows through Nigeria\n",
      "The Congo flows through Zaire\n",
      "\n",
      "The locations are :\n",
      "\n",
      "peru\n",
      "montana\n",
      "china\n",
      "nigeria\n",
      "zaire\n",
      "\n",
      " some of the rivers that we have are :\n",
      "\n",
      "amazon\n",
      "mississippi-missouri-red rock\n",
      "chang jiang\n",
      "niger\n",
      "congo\n"
     ]
    }
   ],
   "source": [
    "rivers = {\n",
    "    \"peru\": \"amazon\",\n",
    "    \"montana\": \"mississippi-missouri-red rock\",\n",
    "    \"china\": \"chang jiang\",\n",
    "    \"nigeria\": \"niger\",\n",
    "    \"zaire\": \"congo\"\n",
    "}\n",
    "\n",
    "for location, river in rivers.items():\n",
    "    print(f\"The {river.title()} flows through {location.title()}\")\n",
    "\n",
    "\n",
    "print(\"\\nThe locations are :\\n\")\n",
    "for place in rivers.keys():\n",
    "    print(place)\n",
    "\n",
    "print(\"\\nsome of the rivers that we have are :\\n\")\n",
    "\n",
    "for river in rivers.values():\n",
    "    print(river)"
   ]
  },
  {
   "cell_type": "code",
   "execution_count": null,
   "metadata": {},
   "outputs": [
    {
     "name": "stdout",
     "output_type": "stream",
     "text": [
      "Olamide need to take the poll\n",
      "thank you Meshach for taking the poll, your favorite language is Python\n",
      "thank you Fisola for taking the poll, your favorite language is Ruby\n",
      "thank you Adu for taking the poll, your favorite language is R\n",
      "Paul need to take the poll\n",
      "Emmanuel need to take the poll\n"
     ]
    }
   ],
   "source": [
    "some_people = [\"olamide\", \"meshach\", \"fisola\", \"adu\", \"paul\", \"emmanuel\"]\n",
    "\n",
    "favorite_prog = {\n",
    "    \"meshach\": \"python\",\n",
    "    \"fisola\": \"ruby\",\n",
    "    \"nangamso\": \"qgis\",\n",
    "    \"adu\": \"r\",\n",
    "    \"ayobami\": \"typescript\"\n",
    "}\n",
    "\n",
    "for person in some_people:\n",
    "    if person in favorite_prog.keys():\n",
    "        print(\n",
    "            f\"thank you {person.title()} for taking the poll, your favorite language is {favorite_prog[person].title()}\"\n",
    "        )\n",
    "    else:\n",
    "        print(f\"{person.title()} need to take the poll\")"
   ]
  },
  {
   "cell_type": "markdown",
   "metadata": {},
   "source": [
    "Nesting"
   ]
  },
  {
   "cell_type": "markdown",
   "metadata": {},
   "source": [
    "A list of dictionaries"
   ]
  },
  {
   "cell_type": "code",
   "execution_count": null,
   "metadata": {},
   "outputs": [
    {
     "name": "stdout",
     "output_type": "stream",
     "text": [
      "{'color': 'green', 'points': 5}\n",
      "{'color': 'yellow', 'points': 10}\n",
      "{'color': 'red', 'points': 15}\n"
     ]
    }
   ],
   "source": [
    "alien_0 = {\n",
    "    \"color\": \"green\", \n",
    "    \"points\": 5,\n",
    "}\n",
    "\n",
    "alien_1 = {\n",
    "    \"color\": \"yellow\",\n",
    "    \"points\": 10,\n",
    "}\n",
    "\n",
    "alien_2 = {\n",
    "    \"color\": \"red\",\n",
    "    \"points\": 15,\n",
    "}\n",
    "\n",
    "aliens = [alien_0, alien_1, alien_2]\n",
    "\n",
    "for alien in aliens:\n",
    "    print(alien)"
   ]
  },
  {
   "cell_type": "code",
   "execution_count": null,
   "metadata": {},
   "outputs": [
    {
     "name": "stdout",
     "output_type": "stream",
     "text": [
      "{'color': 'green', 'points': 5, 'speed': 'slow'}\n",
      "{'color': 'green', 'points': 5, 'speed': 'slow'}\n",
      "{'color': 'green', 'points': 5, 'speed': 'slow'}\n",
      "{'color': 'green', 'points': 5, 'speed': 'slow'}\n",
      "{'color': 'green', 'points': 5, 'speed': 'slow'}\n",
      "...\n",
      "Total number of aliens: 30\n"
     ]
    }
   ],
   "source": [
    "# empty list\n",
    "aliens = []\n",
    "\n",
    "# make 30 green aliens\n",
    "for alien_number in range(30):\n",
    "    new_alien = {\n",
    "        \"color\": \"green\",\n",
    "        \"points\": 5,\n",
    "        \"speed\": \"slow\"\n",
    "    }\n",
    "    aliens.append(new_alien)\n",
    "\n",
    "for alien in aliens[:5]:\n",
    "    print(alien)\n",
    "print(\"...\")\n",
    "\n",
    "print(f\"Total number of aliens: {len(aliens)}\")"
   ]
  },
  {
   "cell_type": "code",
   "execution_count": null,
   "metadata": {},
   "outputs": [
    {
     "name": "stdout",
     "output_type": "stream",
     "text": [
      "{'color': 'red', 'points': 15, 'speed': 'fast'}\n",
      "{'color': 'red', 'points': 15, 'speed': 'fast'}\n",
      "{'color': 'red', 'points': 15, 'speed': 'fast'}\n",
      "{'color': 'green', 'points': 5, 'speed': 'slow'}\n",
      "{'color': 'green', 'points': 5, 'speed': 'slow'}\n",
      "{'color': 'green', 'points': 5, 'speed': 'slow'}\n",
      "{'color': 'green', 'points': 5, 'speed': 'slow'}\n",
      "{'color': 'green', 'points': 5, 'speed': 'slow'}\n",
      "{'color': 'green', 'points': 5, 'speed': 'slow'}\n",
      "{'color': 'green', 'points': 5, 'speed': 'slow'}\n",
      "...\n"
     ]
    }
   ],
   "source": [
    "for alien in aliens[:3]:\n",
    "    if alien[\"color\"] == \"green\":\n",
    "        alien[\"color\"] = \"yellow\"\n",
    "        alien[\"speed\"] = \"medium\"\n",
    "        alien[\"points\"] = 10\n",
    "    elif alien[\"color\"] == \"yellow\":\n",
    "        alien[\"color\"] = \"red\"\n",
    "        alien[\"speed\"] = \"fast\"\n",
    "        alien[\"points\"] = 15\n",
    "\n",
    "    \n",
    "for alien in aliens[:10]:\n",
    "    print(alien)\n",
    "print(\"...\")"
   ]
  },
  {
   "cell_type": "markdown",
   "metadata": {},
   "source": [
    "## User Input and While Loops"
   ]
  },
  {
   "cell_type": "code",
   "execution_count": null,
   "metadata": {},
   "outputs": [
    {
     "name": "stdout",
     "output_type": "stream",
     "text": [
      "I'm the greatest ever\n"
     ]
    }
   ],
   "source": [
    "message = input(\"Tell me something, and I will repeat it back to you: \")\n",
    "print(message)"
   ]
  },
  {
   "cell_type": "code",
   "execution_count": null,
   "metadata": {},
   "outputs": [
    {
     "name": "stdout",
     "output_type": "stream",
     "text": [
      "\n",
      "Hello, Adu the King\n"
     ]
    }
   ],
   "source": [
    "prompt = \"if you share your name, we can personalize the message you see.\"\n",
    "prompt += \"\\nWhat is your first name? \"\n",
    "\n",
    "name = input(prompt)\n",
    "print(f\"\\nHello, {name}\")"
   ]
  },
  {
   "cell_type": "markdown",
   "metadata": {},
   "source": [
    "#### Using int() to Accept Numerical Input"
   ]
  },
  {
   "cell_type": "code",
   "execution_count": null,
   "metadata": {},
   "outputs": [
    {
     "name": "stdout",
     "output_type": "stream",
     "text": [
      "27\n"
     ]
    },
    {
     "data": {
      "text/plain": [
       "str"
      ]
     },
     "execution_count": 4,
     "metadata": {},
     "output_type": "execute_result"
    }
   ],
   "source": [
    "# The following returns a string\n",
    "age = input(\"how old are you? \")\n",
    "print(age)\n",
    "type(age)"
   ]
  },
  {
   "cell_type": "code",
   "execution_count": null,
   "metadata": {},
   "outputs": [
    {
     "data": {
      "text/plain": [
       "True"
      ]
     },
     "execution_count": 5,
     "metadata": {},
     "output_type": "execute_result"
    }
   ],
   "source": [
    "# string value converted to numerical value and can be used in mathematical operations\n",
    "age = input(\"how old are you? \")\n",
    "age = int(age)\n",
    "age >= 18"
   ]
  },
  {
   "cell_type": "markdown",
   "metadata": {},
   "source": [
    "#### Modulo operator\n",
    "This divides a number by another and returns the remainder"
   ]
  },
  {
   "cell_type": "code",
   "execution_count": null,
   "metadata": {},
   "outputs": [
    {
     "name": "stdout",
     "output_type": "stream",
     "text": [
      "1\n",
      "2\n",
      "0\n"
     ]
    },
    {
     "data": {
      "text/plain": [
       "1"
      ]
     },
     "execution_count": 7,
     "metadata": {},
     "output_type": "execute_result"
    }
   ],
   "source": [
    "print(4 % 3)\n",
    "print(5 % 3)\n",
    "print(6 % 3)\n",
    "7 % 3"
   ]
  },
  {
   "cell_type": "code",
   "execution_count": null,
   "metadata": {},
   "outputs": [
    {
     "name": "stdout",
     "output_type": "stream",
     "text": [
      "\n",
      "The number 50 is even.\n"
     ]
    }
   ],
   "source": [
    "number = input(\"Enter a number, and I'll tel you if it's even or odd: \")\n",
    "number = int(number)\n",
    "\n",
    "if number % 2 == 0:\n",
    "    print(f\"\\nThe number {number} is even.\")\n",
    "else:\n",
    "    print(f\"\\nThe number {number} is odd.\")"
   ]
  },
  {
   "cell_type": "markdown",
   "metadata": {},
   "source": [
    "Exercise: Rental Car"
   ]
  },
  {
   "cell_type": "code",
   "execution_count": null,
   "metadata": {},
   "outputs": [
    {
     "name": "stdout",
     "output_type": "stream",
     "text": [
      "Let me see if I can find you Maybach\n"
     ]
    }
   ],
   "source": [
    "car = input(\"What kind of rental car would you like? \")\n",
    "print(f\"Let me see if I can find you {car.title()}\")"
   ]
  },
  {
   "cell_type": "markdown",
   "metadata": {},
   "source": [
    "Restaurant seating"
   ]
  },
  {
   "cell_type": "code",
   "execution_count": null,
   "metadata": {},
   "outputs": [
    {
     "name": "stdout",
     "output_type": "stream",
     "text": [
      "You are 10 in number, you have to wait a bit\n"
     ]
    }
   ],
   "source": [
    "num_people = input(\"How many people are in the dinner group? \")\n",
    "num_people = int(num_people)\n",
    "\n",
    "if num_people > 8:\n",
    "    print(f\"You are {num_people} in number, you have to wait a bit\")\n",
    "else:\n",
    "    print(f\"{num_people} people, okay! Your table is ready.\")"
   ]
  },
  {
   "cell_type": "markdown",
   "metadata": {},
   "source": [
    "Multiple of Ten"
   ]
  },
  {
   "cell_type": "code",
   "execution_count": null,
   "metadata": {},
   "outputs": [
    {
     "name": "stdout",
     "output_type": "stream",
     "text": [
      "\n",
      "The number 89 is not a multiple of 10\n"
     ]
    }
   ],
   "source": [
    "mult_10 = input(\"Tell me a number, and I will tell you if it's a multiple of 10 or not: \")\n",
    "mult_10 = int(mult_10)\n",
    "\n",
    "if mult_10 % 10 == 0:\n",
    "    print(f\"\\nThe number {mult_10} is a multiple of 10\")\n",
    "else:\n",
    "    print(f\"\\nThe number {mult_10} is not a multiple of 10\")"
   ]
  },
  {
   "cell_type": "markdown",
   "metadata": {},
   "source": [
    "### While Loops\n",
    "The while loop runs as long as a number is true."
   ]
  },
  {
   "cell_type": "code",
   "execution_count": null,
   "metadata": {},
   "outputs": [
    {
     "name": "stdout",
     "output_type": "stream",
     "text": [
      "1\n",
      "2\n",
      "3\n",
      "4\n",
      "5\n"
     ]
    }
   ],
   "source": [
    "current_number = 1\n",
    "while current_number <= 5:\n",
    "    print(current_number)\n",
    "    current_number += 1"
   ]
  },
  {
   "cell_type": "markdown",
   "metadata": {},
   "source": [
    "Letting Users choose when to quit"
   ]
  },
  {
   "cell_type": "code",
   "execution_count": null,
   "metadata": {},
   "outputs": [
    {
     "name": "stdout",
     "output_type": "stream",
     "text": [
      "I am the greatest\n",
      "Oluwalosola\n",
      "In God I trust\n",
      "I will win\n",
      "I must win\n"
     ]
    }
   ],
   "source": [
    "prompt = \"\\nTell me something, and I will repeat it back to you:\"\n",
    "prompt += \"\\nEnter 'quit' to end the program. \"\n",
    "\n",
    "message = \"\"\n",
    "while message != \"quit\":\n",
    "    message = input(prompt)\n",
    "    \n",
    "    if message != 'quit':\n",
    "          print(message)"
   ]
  },
  {
   "cell_type": "markdown",
   "metadata": {},
   "source": [
    "### Flags\n",
    "These are signal variables in a program that determines whether multiple conditions are True. We can write our programs so they run while the flag is set to True and stop running when any of several events sets the value of the flag to False. "
   ]
  },
  {
   "cell_type": "code",
   "execution_count": 1,
   "metadata": {},
   "outputs": [
    {
     "name": "stdout",
     "output_type": "stream",
     "text": [
      "I Olamide Michael Adu is the greatest\n"
     ]
    }
   ],
   "source": [
    "prompt = \"\\nTell me something, and I will repeat it back to you:\"\n",
    "prompt += \"\\nEnter 'quit' to end the program. \"\n",
    "\n",
    "active = True #Flag\n",
    "while active:\n",
    "    message = input(prompt)\n",
    "\n",
    "    if message == 'quit':\n",
    "        active = False\n",
    "    else:\n",
    "        print(message)"
   ]
  },
  {
   "cell_type": "markdown",
   "metadata": {},
   "source": [
    "#### Using break to exit a loop\n",
    "`break()` is used to exit a loop immediately without running any remaining code in the loop, regardless of the results of any conditional test."
   ]
  },
  {
   "cell_type": "code",
   "execution_count": 2,
   "metadata": {},
   "outputs": [
    {
     "name": "stdout",
     "output_type": "stream",
     "text": [
      "I'd love to go to Malmo\n",
      "I'd love to go to Lund\n",
      "I'd love to go to Copenhagen\n",
      "I'd love to go to Aalborg\n",
      "I'd love to go to Aarhus\n",
      "I'd love to go to Odense\n",
      "I'd love to go to Midtjylland\n",
      "I'd love to go to Venice\n",
      "I'd love to go to Madrid\n",
      "I'd love to go to Milan\n",
      "I'd love to go to Porto\n",
      "I'd love to go to Lisbon\n",
      "I'd love to go to Madrid\n",
      "I'd love to go to Miranda\n"
     ]
    }
   ],
   "source": [
    "prompt = \"\\nPlease enter the name of a city you have visited:\"\n",
    "prompt += \"\\nEnter 'quit' when you are finished\"\n",
    "\n",
    "active = True\n",
    "while active:\n",
    "    city = input(prompt)\n",
    "\n",
    "    if city == \"quit\":\n",
    "        active = False\n",
    "    else:\n",
    "        print(f\"I'd love to go to {city.title()}\")"
   ]
  },
  {
   "cell_type": "code",
   "execution_count": null,
   "metadata": {},
   "outputs": [],
   "source": [
    "prompt = \"\\nPlease enter the name of a city you have visited:\"\n",
    "prompt += \"\\n(Enter 'quit' when you are finished)\"\n",
    "\n",
    "while True:\n",
    "    city = input(prompt)\n",
    "\n",
    "    if city == \"quit\":\n",
    "        break\n",
    "    else:\n",
    "        print(f\"I'd love to go to {city.title()}\")"
   ]
  },
  {
   "cell_type": "markdown",
   "metadata": {},
   "source": [
    "### Using continue in a Loop\n",
    "Rather than breaking, we can choose to return to the beginning of the loop based on the result of a conditional test using the `continue` statement"
   ]
  },
  {
   "cell_type": "code",
   "execution_count": 3,
   "metadata": {},
   "outputs": [
    {
     "name": "stdout",
     "output_type": "stream",
     "text": [
      "1\n",
      "3\n",
      "5\n",
      "7\n",
      "9\n"
     ]
    }
   ],
   "source": [
    "current_number = 0\n",
    "while current_number < 10:\n",
    "    current_number += 1\n",
    "    if current_number % 2 == 0:\n",
    "        continue\n",
    "\n",
    "    print(current_number)"
   ]
  },
  {
   "cell_type": "markdown",
   "metadata": {},
   "source": [
    "Exercise: Pizza Topping"
   ]
  },
  {
   "cell_type": "code",
   "execution_count": 4,
   "metadata": {},
   "outputs": [
    {
     "name": "stdout",
     "output_type": "stream",
     "text": [
      "Adding Onions to the pizza\n",
      "Adding Mushrooms to the pizza\n"
     ]
    }
   ],
   "source": [
    "# uses the active variable as the flag\n",
    "prompt = \"\\nEnter your preferred pizza toppings:\"\n",
    "prompt += \"\\n(Enter 'quit' when you are done) \"\n",
    "\n",
    "active = True\n",
    "\n",
    "while active:\n",
    "    pizza = input(prompt)\n",
    "\n",
    "    if pizza == \"quit\":\n",
    "        active = False\n",
    "    else:\n",
    "        print(f\"Adding {pizza.title()} to the pizza\")"
   ]
  },
  {
   "cell_type": "code",
   "execution_count": 15,
   "metadata": {},
   "outputs": [
    {
     "name": "stdout",
     "output_type": "stream",
     "text": [
      "Adding Mozarrela to the pizza\n",
      "Adding Onion to the pizza\n",
      "Adding Green Beans to the pizza\n"
     ]
    }
   ],
   "source": [
    "# Uses conditionals alone\n",
    "prompt = \"\\nEnter your preferred pizza toppings:\"\n",
    "prompt += \"\\n(Enter 'quit' when you are done) \"\n",
    "\n",
    "pizza = \"\"\n",
    "while pizza != \"quit\":\n",
    "    pizza = input(prompt)\n",
    "\n",
    "    if pizza != \"quit\":\n",
    "        print(f\"Adding {pizza.title()} to the pizza\")"
   ]
  },
  {
   "cell_type": "code",
   "execution_count": 16,
   "metadata": {},
   "outputs": [
    {
     "name": "stdout",
     "output_type": "stream",
     "text": [
      "Adding Mozarella to the pizza\n",
      "Adding Onion to the pizza\n"
     ]
    }
   ],
   "source": [
    "# Using break to stop the loop\n",
    "\n",
    "prompt = \"\\nEnter your preferred pizza toppings:\"\n",
    "prompt += \"\\n(Enter 'quit' when you are done) \"\n",
    "\n",
    "\n",
    "while True:\n",
    "    pizza = input(prompt)\n",
    "\n",
    "    if pizza != \"quit\":\n",
    "        print(f\"Adding {pizza.title()} to the pizza\")\n",
    "    else:\n",
    "        break"
   ]
  },
  {
   "cell_type": "markdown",
   "metadata": {},
   "source": [
    ": Movie tickets"
   ]
  },
  {
   "cell_type": "code",
   "execution_count": 5,
   "metadata": {},
   "outputs": [
    {
     "name": "stdout",
     "output_type": "stream",
     "text": [
      "You are 12 years old. The cost of your ticket is $15\n",
      "You are 10 years old. The cost of your ticket is $10\n",
      "You are 2 years old. The cost of your ticket is free\n",
      "You are 3 years old. The cost of your ticket is $10\n"
     ]
    }
   ],
   "source": [
    "# Using break to end the loop\n",
    "\n",
    "prompt = \"\\nHow old are you? \"\n",
    "prompt = \"\\nenter quit if you are done\"\n",
    "\n",
    "\n",
    "while True:\n",
    "    age = input(prompt)\n",
    "    if age == 'quit':\n",
    "        break\n",
    "    age = int(age)\n",
    "    if age < 3:\n",
    "        print(f\"You are {age} years old. The cost of your ticket is free\")\n",
    "    elif age >2 and age < 12:\n",
    "        print(f\"You are {age} years old. The cost of your ticket is $10\")\n",
    "    elif age >= 12:\n",
    "        print(f\"You are {age} years old. The cost of your ticket is $15\")\n",
    "    "
   ]
  },
  {
   "cell_type": "code",
   "execution_count": 20,
   "metadata": {},
   "outputs": [
    {
     "name": "stdout",
     "output_type": "stream",
     "text": [
      "You are 12 years old. The cost of your ticket is $15\n",
      "You are 10 years old. The cost of your ticket is $10\n",
      "You are 1 years old. The cost of your ticket is free\n",
      "You are 3 years old. The cost of your ticket is $10\n",
      "You are 2 years old. The cost of your ticket is free\n",
      "You are 76 years old. The cost of your ticket is $15\n"
     ]
    }
   ],
   "source": [
    "# Using the active flag\n",
    "prompt = \"\\nHow old are you? \"\n",
    "prompt = \"\\nenter quit if you are done\"\n",
    "\n",
    "active = True\n",
    "while active:\n",
    "    age = input(prompt)\n",
    "   \n",
    "    if age == 'quit':\n",
    "        active = False\n",
    "\n",
    "    elif int(age) < 3:\n",
    "        print(f\"You are {age} years old. The cost of your ticket is free\")\n",
    "    elif int(age) >2 and int(age) < 12:\n",
    "        print(f\"You are {age} years old. The cost of your ticket is $10\")\n",
    "    elif int(age) >= 12:\n",
    "        print(f\"You are {age} years old. The cost of your ticket is $15\")\n"
   ]
  },
  {
   "cell_type": "code",
   "execution_count": 6,
   "metadata": {},
   "outputs": [
    {
     "name": "stdout",
     "output_type": "stream",
     "text": [
      "You are 10 years old. The cost of your ticket is $10\n",
      "You are 1 years old. The cost of your ticket is free\n",
      "You are 0 years old. The cost of your ticket is free\n",
      "You are 56 years old. The cost of your ticket is $15\n"
     ]
    }
   ],
   "source": [
    "# Using the conditionals\n",
    "prompt = \"\\nHow old are you? \"\n",
    "prompt = \"\\nenter quit if you are done\"\n",
    "\n",
    "age = \"\"\n",
    "\n",
    "while age != \"quit\":\n",
    "    age = input(prompt)\n",
    "    \n",
    "    if age != \"quit\":\n",
    "        age = int(age)\n",
    "        if age < 3:\n",
    "              print(f\"You are {age} years old. The cost of your ticket is free\")\n",
    "        elif age >2 and age < 12:\n",
    "            print(f\"You are {age} years old. The cost of your ticket is $10\")\n",
    "        elif age >= 12:\n",
    "              print(f\"You are {age} years old. The cost of your ticket is $15\")"
   ]
  },
  {
   "cell_type": "markdown",
   "metadata": {},
   "source": [
    "#### Using a while Loop with Lists and Dictionaries"
   ]
  },
  {
   "cell_type": "markdown",
   "metadata": {},
   "source": [
    "moving items from one list to another"
   ]
  },
  {
   "cell_type": "code",
   "execution_count": 8,
   "metadata": {},
   "outputs": [
    {
     "name": "stdout",
     "output_type": "stream",
     "text": [
      "Verifying use: Candace\n",
      "Verifying use: Brain\n",
      "Verifying use: Alice\n",
      "\n",
      "The following users have been confirmed:\n",
      "Candace\n",
      "Brain\n",
      "Alice\n"
     ]
    }
   ],
   "source": [
    "unconfirmed_users = [\"alice\", \"brain\", \"candace\"]\n",
    "confirmed_users = []\n",
    "\n",
    "while unconfirmed_users:\n",
    "    current_user = unconfirmed_users.pop()\n",
    "\n",
    "    print(f\"Verifying use: {current_user.title()}\")\n",
    "    confirmed_users.append(current_user)\n",
    "\n",
    "print(\"\\nThe following users have been confirmed:\")\n",
    "for confirmed_user in confirmed_users:\n",
    "    print(confirmed_user.title())\n"
   ]
  },
  {
   "cell_type": "markdown",
   "metadata": {},
   "source": [
    "removing all instances of specific values from a list"
   ]
  },
  {
   "cell_type": "code",
   "execution_count": 12,
   "metadata": {},
   "outputs": [
    {
     "name": "stdout",
     "output_type": "stream",
     "text": [
      "['dogs', 'cat', 'dog', 'goldfish', 'cat', 'rabbit', 'cat']\n",
      "removing 1 cats\n",
      "removing 2 cats\n",
      "removing 3 cats\n",
      "['dogs', 'dog', 'goldfish', 'rabbit']\n"
     ]
    }
   ],
   "source": [
    "pets = [\"dogs\", \"cat\", \"dog\", \"goldfish\", \"cat\", \"rabbit\", \"cat\"]\n",
    "print(pets)\n",
    "\n",
    "num = 0\n",
    "\n",
    "while \"cat\" in pets:\n",
    "    pets.remove(\"cat\")    \n",
    "    num += 1\n",
    "    print(f\"removing {num} cats\")\n",
    "\n",
    "print(pets)"
   ]
  },
  {
   "cell_type": "markdown",
   "metadata": {},
   "source": [
    "filling user input with a dictionary"
   ]
  },
  {
   "cell_type": "code",
   "execution_count": 14,
   "metadata": {},
   "outputs": [
    {
     "name": "stdout",
     "output_type": "stream",
     "text": [
      "Olamide would like to climb Kilimanjaro.\n",
      "Soso would like to climb Everest.\n"
     ]
    }
   ],
   "source": [
    "responses = {}\n",
    "# set a flag to indicate condition is still active\n",
    "polling_active = True\n",
    "\n",
    "while polling_active:\n",
    "    name = input(\"\\nWhat is your name? \")\n",
    "    response = input(\"Which moutain would you like to climb someday? \")\n",
    "\n",
    "    # Store the response in the dictionary\n",
    "    responses[name] = response\n",
    "    # Find out if anyone else is going to take the poll\n",
    "    repeat = input(\"Would you like to let another person respond? (yes/no) \")\n",
    "    if repeat == \"no\":\n",
    "        polling_active = False\n",
    "\n",
    "# Polling is complete. show the results.\n",
    "for name, response in responses.items():\n",
    "    print(f\"{name.title()} would like to climb {response.title()}.\")"
   ]
  },
  {
   "cell_type": "markdown",
   "metadata": {},
   "source": [
    "Exercise: sandwich order"
   ]
  },
  {
   "cell_type": "code",
   "execution_count": 17,
   "metadata": {},
   "outputs": [
    {
     "name": "stdout",
     "output_type": "stream",
     "text": [
      "I am making the Roast Beef sandwich\n",
      "\n",
      "I am making the Turkey sandwich\n",
      "\n",
      "I am making the Grilled Cheese sandwich\n",
      "\n",
      "I am making the Veggie sandwich\n",
      "\n",
      "I am making the Tuna sandwich\n",
      "\n",
      "What is the sandwich status: \n",
      "\n",
      "I have finished making the Roast Beef sandwich\n",
      "I have finished making the Turkey sandwich\n",
      "I have finished making the Grilled Cheese sandwich\n",
      "I have finished making the Veggie sandwich\n",
      "I have finished making the Tuna sandwich\n"
     ]
    }
   ],
   "source": [
    "sandwich_orders  = ['tuna', 'veggie', 'grilled cheese', 'turkey', 'roast beef']\n",
    "finished_sandwiches = []\n",
    "\n",
    "while sandwich_orders:\n",
    "    order = sandwich_orders.pop()\n",
    "    print(f\"I am making the {order.title()} sandwich\\n\")\n",
    "\n",
    "    finished_sandwiches.append(order)\n",
    "\n",
    "print(\"What is the sandwich status: \\n\")\n",
    "for sandwich in finished_sandwiches:\n",
    "    print(f\"I have finished making the {sandwich.title()} sandwich\")"
   ]
  },
  {
   "cell_type": "markdown",
   "metadata": {},
   "source": [
    ": No pastrami"
   ]
  },
  {
   "cell_type": "code",
   "execution_count": 25,
   "metadata": {},
   "outputs": [
    {
     "name": "stdout",
     "output_type": "stream",
     "text": [
      "The deli has run out pastrami\n",
      "\n",
      "Sorry we are out of pastrami\n",
      "\n",
      "I am working on your Roast Beef order\n",
      "I am working on your Turkey order\n",
      "I am working on your Grilled Cheese order\n",
      "I am working on your Veggie order\n",
      "I am working on your Tuna order\n",
      "\n",
      "We have no pastrami: \n",
      "\n",
      "Enjoy your roast beef\n",
      "Enjoy your turkey\n",
      "Enjoy your grilled cheese\n",
      "Enjoy your veggie\n",
      "Enjoy your tuna\n"
     ]
    }
   ],
   "source": [
    "sandwich_orders  = ['tuna', 'veggie', 'pastrami', 'pastrami', 'pastrami',  'pastrami', 'grilled cheese', 'turkey', 'pastrami', 'roast beef', 'pastrami']\n",
    "\n",
    "finished_sandwiches = []\n",
    "\n",
    "print(\"The deli has run out pastrami\")\n",
    "\n",
    "while \"pastrami\" in sandwich_orders:\n",
    "    sandwich_orders.remove(\"pastrami\")\n",
    "print(\"\\nSorry we are out of pastrami\\n\")\n",
    "\n",
    "while sandwich_orders:\n",
    "    sandwich_order = sandwich_orders.pop()\n",
    "    print(f\"I am working on your {sandwich_order.title()} order\")\n",
    "    finished_sandwiches.append(sandwich_order)\n",
    "\n",
    "print(\"\\nWe have no pastrami: \\n\")\n",
    "for sandwich in finished_sandwiches:\n",
    "    print(f\"Enjoy your {sandwich}\")"
   ]
  },
  {
   "cell_type": "code",
   "execution_count": 27,
   "metadata": {},
   "outputs": [
    {
     "name": "stdout",
     "output_type": "stream",
     "text": [
      "thanks for your time\n",
      "Olamide would like to visit Grand Canyon\n",
      "Soso would like to visit Paris\n",
      "Bolaji would like to visit Denmark\n"
     ]
    }
   ],
   "source": [
    "dream_spot = {}\n",
    "poll = True\n",
    "\n",
    "while poll:\n",
    "    user = input(\"what is your name? \")\n",
    "    dest = input(\"if you could visit one place in the world, where would go? \")\n",
    "\n",
    "    dream_spot[user] = dest\n",
    "    \n",
    "    another_user = input(\"would you like to answer the poll? (yes/no)\")\n",
    "    if another_user == \"no\":\n",
    "        poll = False\n",
    "        print(\"thanks for your time\")\n",
    "\n",
    "for user, dest in dream_spot.items():\n",
    "    print(f\"{user.title()} would like to visit {dest.title()}\")"
   ]
  },
  {
   "cell_type": "markdown",
   "metadata": {},
   "source": [
    "## Functions"
   ]
  },
  {
   "cell_type": "code",
   "execution_count": 28,
   "metadata": {},
   "outputs": [
    {
     "name": "stdout",
     "output_type": "stream",
     "text": [
      "Hello!\n"
     ]
    }
   ],
   "source": [
    "def greet_user():\n",
    "    \"\"\"Display a simple greeting.\"\"\"\n",
    "    print(\"Hello!\")\n",
    "\n",
    "greet_user()"
   ]
  },
  {
   "cell_type": "code",
   "execution_count": 2,
   "metadata": {},
   "outputs": [
    {
     "name": "stdout",
     "output_type": "stream",
     "text": [
      "Hello, Olamide!\n"
     ]
    }
   ],
   "source": [
    "def greet_user(username):\n",
    "    \"\"\"Display a simple greeting.\"\"\"\n",
    "    print(f\"Hello, {username.title()}!\")\n",
    "\n",
    "greet_user(\"olamide\")\n",
    "          "
   ]
  },
  {
   "cell_type": "markdown",
   "metadata": {},
   "source": [
    "Exercise: Message"
   ]
  },
  {
   "cell_type": "code",
   "execution_count": 3,
   "metadata": {},
   "outputs": [
    {
     "name": "stdout",
     "output_type": "stream",
     "text": [
      "I am learning how to write functions in this chapter\n"
     ]
    }
   ],
   "source": [
    "def display_message():\n",
    "    \"\"\"Display information about what I am learning in this chapter\"\"\"\n",
    "    print(\"I am learning how to write functions in this chapter\")\n",
    "\n",
    "display_message()"
   ]
  },
  {
   "cell_type": "code",
   "execution_count": 4,
   "metadata": {},
   "outputs": [
    {
     "name": "stdout",
     "output_type": "stream",
     "text": [
      "One of my favorite books is As A Man Thinketh\n"
     ]
    }
   ],
   "source": [
    "def favorite_book(title):\n",
    "    \"\"\"Get a user favorite book\"\"\"\n",
    "    print(f\"One of my favorite books is {title.title()}\")\n",
    "\n",
    "favorite_book(\"as a man thinketh\")"
   ]
  },
  {
   "cell_type": "markdown",
   "metadata": {},
   "source": [
    "### Passing Argument\n",
    "\n",
    "We have:\n",
    "- Positional arguments\n",
    "- Keyword arguments"
   ]
  },
  {
   "cell_type": "markdown",
   "metadata": {},
   "source": [
    "**Positional arguments**: These are called in the same order their parameters were written. In this type of function, order matters"
   ]
  },
  {
   "cell_type": "code",
   "execution_count": 6,
   "metadata": {},
   "outputs": [
    {
     "name": "stdout",
     "output_type": "stream",
     "text": [
      "\n",
      "I have a  dog.\n",
      "My dog's name is Mars\n"
     ]
    }
   ],
   "source": [
    "def describe_pet(animal_type, pet_name):\n",
    "    \"\"\"Display information about a pet.\"\"\"\n",
    "    print(f\"\\nI have a  {animal_type}.\")\n",
    "    print(f\"My {animal_type}'s name is {pet_name.title()}\")\n",
    "\n",
    "describe_pet(\"dog\", \"mars\")\n"
   ]
  },
  {
   "cell_type": "markdown",
   "metadata": {},
   "source": [
    "**Keyword arguments**: This is a *name-value* pair that we pass in a function. Here, we directly associate the name and the value within the argument, so when we pass the argument to the function, there's no confusion. The order of keyword arguments doesn't matter because Python knows where each vallue should go."
   ]
  },
  {
   "cell_type": "code",
   "execution_count": 7,
   "metadata": {},
   "outputs": [
    {
     "name": "stdout",
     "output_type": "stream",
     "text": [
      "\n",
      "I have a  dog.\n",
      "My dog's name is Mars\n"
     ]
    }
   ],
   "source": [
    "describe_pet(animal_type=\"dog\", pet_name=\"mars\")"
   ]
  },
  {
   "cell_type": "markdown",
   "metadata": {},
   "source": [
    "**default values**"
   ]
  },
  {
   "cell_type": "code",
   "execution_count": 9,
   "metadata": {},
   "outputs": [
    {
     "name": "stdout",
     "output_type": "stream",
     "text": [
      "\n",
      "I have a dog.\n",
      "My dog's name is Mars.\n"
     ]
    }
   ],
   "source": [
    "def describe_pet(pet_name, animal_type = \"dog\"):\n",
    "    \"\"\"Display information about a pet.\"\"\"\n",
    "    print(f\"\\nI have a {animal_type}.\")\n",
    "    print(f\"My {animal_type}'s name is {pet_name.title()}.\")\n",
    "\n",
    "describe_pet(\"mars\")    "
   ]
  },
  {
   "cell_type": "code",
   "execution_count": 10,
   "metadata": {},
   "outputs": [
    {
     "name": "stdout",
     "output_type": "stream",
     "text": [
      "\n",
      "I have a cat.\n",
      "My cat's name is Clara.\n"
     ]
    }
   ],
   "source": [
    "describe_pet(pet_name=\"clara\", animal_type=\"cat\")"
   ]
  },
  {
   "cell_type": "markdown",
   "metadata": {},
   "source": [
    "Exercise: T-Shirt"
   ]
  },
  {
   "cell_type": "code",
   "execution_count": 15,
   "metadata": {},
   "outputs": [
    {
     "name": "stdout",
     "output_type": "stream",
     "text": [
      "The shirt specification is given as\n",
      "\tShirt size: 20\n",
      "\tText imprint: God@work\n",
      "Done.\n",
      "The shirt specification is given as\n",
      "\tShirt size: 20\n",
      "\tText imprint: God@work\n",
      "Done.\n"
     ]
    }
   ],
   "source": [
    "def make_shirt(size, text_imprint):\n",
    "    \"\"\"\"Get shirt size and print information to be imprinted on shiry\"\"\"\n",
    "    print(f\"The shirt specification is given as\\n\\tShirt size: {size}\\n\\tText imprint: {text_imprint}\\nDone.\")\n",
    "\n",
    "# Positional call\n",
    "make_shirt(20, \"God@work\")\n",
    "# Keyword call\n",
    "make_shirt(size = 20, text_imprint= \"God@work\")"
   ]
  },
  {
   "cell_type": "code",
   "execution_count": 18,
   "metadata": {},
   "outputs": [
    {
     "name": "stdout",
     "output_type": "stream",
     "text": [
      "The shirt specification is given as\n",
      "\tShirt size: large\n",
      "\tText imprint: I love python\n",
      "Done.\n",
      "The shirt specification is given as\n",
      "\tShirt size: medium\n",
      "\tText imprint: God is great\n",
      "Done.\n",
      "The shirt specification is given as\n",
      "\tShirt size: large\n",
      "\tText imprint: I am Great\n",
      "Done.\n"
     ]
    }
   ],
   "source": [
    "## Modification to the function with defaults\n",
    "def make_shirt(size = \"large\", text_imprint = \"I love python\"):\n",
    "    \"\"\"\"Get shirt size and print information to be imprinted on shiry\"\"\"\n",
    "    print(f\"The shirt specification is given as\\n\\tShirt size: {size}\\n\\tText imprint: {text_imprint}\\nDone.\")\n",
    "\n",
    "make_shirt()\n",
    "make_shirt(size=\"medium\", text_imprint=\"God is great\") #Changing both default\n",
    "make_shirt(text_imprint=\"I am Great\") # Changing one default.\n"
   ]
  },
  {
   "cell_type": "code",
   "execution_count": 19,
   "metadata": {},
   "outputs": [
    {
     "name": "stdout",
     "output_type": "stream",
     "text": [
      "Lagos is in Nigeria\n",
      "Abuja is in Nigeria\n",
      "Copenhagen is in Denmark\n",
      "Manchester is in England\n"
     ]
    }
   ],
   "source": [
    "def describe_city(city_name, country = \"nigeria\"):\n",
    "    \"\"\"Display city's name and it's country\"\"\"\n",
    "    print(f\"{city_name.title()} is in {country.title()}\")\n",
    "\n",
    "describe_city(\"lagos\")\n",
    "describe_city(\"abuja\")\n",
    "describe_city(\"copenhagen\", country=\"denmark\")\n",
    "describe_city(\"manchester\", \"england\")"
   ]
  },
  {
   "cell_type": "markdown",
   "metadata": {},
   "source": [
    "#### Return Values"
   ]
  },
  {
   "cell_type": "code",
   "execution_count": 20,
   "metadata": {},
   "outputs": [
    {
     "name": "stdout",
     "output_type": "stream",
     "text": [
      "Jimi Hendrix\n"
     ]
    }
   ],
   "source": [
    "def get_formatted_name(first_name, last_name):\n",
    "    \"\"\"\"Return a full name, neatly formatted.\"\"\"\n",
    "    full_name = f\"{first_name} {last_name}\"\n",
    "    return full_name.title()\n",
    "\n",
    "musician = get_formatted_name(\"jimi\", \"hendrix\")\n",
    "print(musician)"
   ]
  },
  {
   "cell_type": "markdown",
   "metadata": {},
   "source": [
    "#### Making an argument optional\n",
    "To make an argument optional we give it an empty default."
   ]
  },
  {
   "cell_type": "code",
   "execution_count": 21,
   "metadata": {},
   "outputs": [
    {
     "name": "stdout",
     "output_type": "stream",
     "text": [
      "John Lee Hooker\n"
     ]
    }
   ],
   "source": [
    "def get_formatted_name(first_name, middle_name, last_name):\n",
    "     \"\"\"\"Return a full name, neatly formatted.\"\"\"\n",
    "     full_name = f\"{first_name} {middle_name} {last_name}\"\n",
    "     return full_name.title()\n",
    "\n",
    "musician = get_formatted_name(\"john\", \"lee\", \"hooker\")\n",
    "print(musician)\n"
   ]
  },
  {
   "cell_type": "code",
   "execution_count": 22,
   "metadata": {},
   "outputs": [
    {
     "name": "stdout",
     "output_type": "stream",
     "text": [
      "Elton John\n",
      "Elton John Edmond\n"
     ]
    }
   ],
   "source": [
    "def get_formatted_name(first_name, last_name, middle_name=\"\"):\n",
    "     \"\"\"\"Return a full name, neatly formatted.\"\"\"\n",
    "     if middle_name:\n",
    "            full_name = f\"{first_name} {middle_name} {last_name}\"\n",
    "     else:\n",
    "            full_name = f\"{first_name} {last_name}\"\n",
    "     return full_name.title()\n",
    "\n",
    "musician = get_formatted_name(\"elton\", \"john\")\n",
    "print(musician)\n",
    "\n",
    "musician = get_formatted_name(\"elton\", \"edmond\", \"john\")\n",
    "print(musician)"
   ]
  }
 ],
 "metadata": {
  "kernelspec": {
   "display_name": "Python 3",
   "language": "python",
   "name": "python3"
  },
  "language_info": {
   "codemirror_mode": {
    "name": "ipython",
    "version": 3
   },
   "file_extension": ".py",
   "mimetype": "text/x-python",
   "name": "python",
   "nbconvert_exporter": "python",
   "pygments_lexer": "ipython3",
   "version": "3.12.3"
  }
 },
 "nbformat": 4,
 "nbformat_minor": 2
}
